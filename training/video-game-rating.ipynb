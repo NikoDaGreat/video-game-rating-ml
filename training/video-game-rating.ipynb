{
 "cells": [
  {
   "cell_type": "code",
   "execution_count": 1,
   "metadata": {},
   "outputs": [],
   "source": [
    "import numpy as np\n",
    "import pandas as pd\n",
    "import matplotlib.pyplot as plt\n",
    "\n",
    "filename = 'all_games.csv'\n",
    "df = pd.read_csv(filename)\n",
    "df = df[df['User Review Score'].notnull()] # remove data without user score (label)\n",
    "df = df[df['User Review Score'] != -1]\n",
    "\n",
    "revenue_float = df['Projected Lifetime Revenue (net post platform)'] \\\n",
    "    .apply(lambda x: float((str(x)[1:]).replace(',','')) )\n",
    "df = df[revenue_float > 1e4 ] # remove data without sufficient revenue"
   ]
  },
  {
   "cell_type": "code",
   "execution_count": 2,
   "metadata": {},
   "outputs": [],
   "source": [
    "from sklearn.model_selection import cross_val_score, train_test_split, KFold, GridSearchCV\n",
    "\n",
    "df['Tags'] = df['Tags'].apply(lambda x: [tag.lstrip() for tag in str(x).split(',')])\n",
    "tags = df['Tags']\n",
    "titles = df['Title']\n",
    "scores = df['User Review Score'] / 100\n",
    "prices = df['US Price']\n",
    "prices = prices.apply(lambda x: float(str(x)[1:]) )\n",
    "\n",
    "\n",
    "tag_dummies = pd.get_dummies(pd.DataFrame(df['Tags'].values.tolist()), prefix='', prefix_sep='') \\\n",
    "        .groupby(axis=1, level=0).max()\n",
    "\n",
    "X = tag_dummies\n",
    "y = scores.to_numpy().reshape(-1, 1)\n",
    "X_learn, X_test, y_learn, y_test = train_test_split(tag_dummies,\n",
    "                                      scores.to_numpy().reshape(-1, 1),\n",
    "                                                    test_size=0.20, random_state=1)"
   ]
  },
  {
   "cell_type": "code",
   "execution_count": 12,
   "metadata": {},
   "outputs": [
    {
     "name": "stdout",
     "output_type": "stream",
     "text": [
      "Trial 158 Complete [00h 00m 02s]\n",
      "val_mean_squared_error: 0.04240825027227402\n",
      "\n",
      "Best val_mean_squared_error So Far: 0.02972588501870632\n",
      "Total elapsed time: 00h 06m 43s\n",
      "INFO:tensorflow:Oracle triggered exit\n",
      "\n",
      "The hyperparameter search is complete. The optimal number of units in the first densely-connected\n",
      "layer is 80 and the optimal learning rate for the optimizer\n",
      "is 0.05.\n",
      "\n",
      "neurons = 80\n",
      "neurons2 = 20\n",
      "learning_rate = 0.05\n",
      "Huber_delta = 3.0\n",
      "\n"
     ]
    }
   ],
   "source": [
    "# Tuning\n",
    "from sklearn.model_selection import cross_val_score, train_test_split, KFold, GridSearchCV\n",
    "from keras.models import Sequential\n",
    "from keras.layers import Dense\n",
    "from keras.wrappers.scikit_learn import KerasRegressor, KerasClassifier\n",
    "from keras import backend as K\n",
    "import keras\n",
    "import kerastuner as kt\n",
    "import tensorflow as tf\n",
    "import tensorflowjs as tfjs\n",
    "\n",
    "\n",
    "def model_builder(hp):\n",
    "    with tf.device('/GPU:0'):\n",
    "          model = keras.Sequential()\n",
    "          model.add(Dense(4, input_dim=X_train.shape[1], activation='relu'))\n",
    "\n",
    "          hp_neurons = hp.Int('neurons', min_value = 10, max_value = 90, step = 10)\n",
    "          model.add(Dense(hp_neurons, activation='relu'))\n",
    "\n",
    "          hp_neurons2 = hp.Int('neurons2', min_value = 10, max_value = 50, step = 10)\n",
    "          model.add(Dense(hp_neurons2, activation='relu'))\n",
    "        \n",
    "          model.add(Dense(1, activation='linear'))\n",
    "\n",
    "          # Tune the learning rate for the optimizer \n",
    "          # Choose an optimal value from 0.01, 0.001, or 0.0001\n",
    "          hp_delta = hp.Choice('huber_delta', values = [0.5, 1.0, 2.0, 3.0, 4.0])\n",
    "          hp_learning_rate = hp.Choice('learning_rate', values = [5e-2]) # , 1e-2, 1e-3]) \n",
    "\n",
    "          model.compile(loss=tf.keras.losses.Huber(delta = hp_delta),\n",
    "                        optimizer=keras.optimizers.Adam(learning_rate = hp_learning_rate),\n",
    "                        metrics=['MeanSquaredError'])\n",
    "          return model\n",
    "\n",
    "tuner = kt.Hyperband(model_builder,\n",
    "                     objective = 'val_mean_squared_error', \n",
    "                     max_epochs = 800,\n",
    "                     factor = 14,\n",
    "                     directory = 'D:\\Media\\Dev\\ML',\n",
    "                     project_name = 'steam_logs2',\n",
    "                     overwrite=True)\n",
    "\n",
    "tuner.search(X_train, y_train, epochs=800, batch_size=10*3200, verbose=2,\n",
    "                 use_multiprocessing=True, validation_data=(X_test, y_test))\n",
    "\n",
    "best_hps = tuner.get_best_hyperparameters(num_trials = 1)[0]\n",
    "\n",
    "print(f\"\"\"\n",
    "The hyperparameter search is complete. The optimal number of units in the first densely-connected\n",
    "layer is {best_hps.get('neurons')} and the optimal learning rate for the optimizer\n",
    "is {best_hps.get('learning_rate')}.\n",
    "\n",
    "neurons = {best_hps.get('neurons')}\n",
    "neurons2 = {best_hps.get('neurons2')}\n",
    "learning_rate = {best_hps.get('learning_rate')}\n",
    "Huber_delta = {best_hps.get('huber_delta')}\n",
    "\"\"\")\n",
    "\n",
    "# https://github.com/vbschettino/keras-tuner-hiplot"
   ]
  },
  {
   "cell_type": "code",
   "execution_count": null,
   "metadata": {},
   "outputs": [],
   "source": [
    "# hiplot\n",
    "%run D:\\Media\\Dev\\ML\\kt2hip.py D:/Media/Dev/ML/{tuner.project_name}/\n",
    "import hiplot as hip\n",
    "\n",
    "hip.Experiment.from_csv(f\"D:/Media/Dev/ML/{tuner.project_name}/hiplot.csv\").display()"
   ]
  },
  {
   "cell_type": "code",
   "execution_count": null,
   "metadata": {},
   "outputs": [],
   "source": [
    "from keras.models import Sequential\n",
    "from keras.layers import Dense\n",
    "from keras.wrappers.scikit_learn import KerasRegressor, KerasClassifier\n",
    "from keras import backend as K\n",
    "import keras\n",
    "import kerastuner as kt\n",
    "import tensorflow as tf\n",
    "import tensorflowjs as tfjs\n",
    "\n",
    "config = tf.compat.v1.ConfigProto( device_count = {'GPU': 1 , 'CPU': 3}, allow_soft_placement=True ) \n",
    "config.gpu_options.allow_growth = True\n",
    "sess = tf.compat.v1.Session(config=config) \n",
    "tf.compat.v1.keras.backend.set_session(sess)\n",
    "\n",
    "\n",
    "def create_model(neurons=80):\n",
    "    with tf.device('/GPU:0'): # Force GPU usage\n",
    "        model = keras.Sequential() # Define stack of NN layers with one input-output tensor\n",
    "        model.add(Dense(4, input_dim=X_train.shape[1], activation='relu'))\n",
    "        model.add(Dense(neurons, activation='relu'))\n",
    "        model.add(Dense(20, activation='relu'))\n",
    "        model.add(Dense(1, activation='linear'))\n",
    "        model.summary()\n",
    "\n",
    "        model.compile(loss=keras.losses.Huber(delta = 3.0),\n",
    "                      optimizer=keras.optimizers.Adam(),\n",
    "                      metrics=['MeanSquaredError'])\n",
    "        return model\n",
    "\n",
    "kf = KFold(n_splits=5)\n",
    "train_results = list(); results = list(); test_results = list();\n",
    "for train_index, test_index in kf.split(X_learn):\n",
    "    print(\"TRAIN:\", train_index, \"TEST:\", test_index)\n",
    "    X_train, X_val = X_learn.to_numpy()[train_index], X_learn.to_numpy()[test_index]\n",
    "    y_train, y_val = y_learn[train_index], y_learn[test_index]\n",
    "\n",
    "    model = create_model(60)\n",
    "    model.fit(X_train, y_train, epochs=800, batch_size=10*3200, verbose=2,\n",
    "                         use_multiprocessing=True)\n",
    "    \n",
    "    train_result = model.evaluate(X_train, y_train)\n",
    "    train_results.append(train_result)\n",
    "    result = model.evaluate(X_val, y_val, verbose=0)\n",
    "    results.append(result)\n",
    "    test_result = model.evaluate(X_test, y_test)\n",
    "    test_results.append(test_result)\n",
    "\n",
    "\n",
    "    for metric in zip(model.metrics_names, result):\n",
    "        print(f'{metric[0]}: {metric[1]}')\n",
    "    "
   ]
  },
  {
   "cell_type": "code",
   "execution_count": null,
   "metadata": {},
   "outputs": [],
   "source": [
    "results = np.array(results)\n",
    "losses = results[:,0]\n",
    "ind_min = np.argmin(losses)\n",
    "best_split = [i for i in kf.split(X_learn)][ind_min]\n",
    "print(best_split)\n",
    "\n",
    "train_index, test_index = best_split\n",
    "\n",
    "X_train, X_val = X_learn.to_numpy()[train_index], X_learn.to_numpy()[test_index]\n",
    "y_train, y_val = y_learn[train_index], y_learn[test_index]    \n",
    "\n",
    "model = create_model(60)\n",
    "model.fit(X_train, y_train, epochs=800, batch_size=10*3200, verbose=2,\n",
    "                         use_multiprocessing=True)\n",
    "path = 'D:\\Media\\Dev\\ML'\n",
    "model.save(path)\n",
    "train_result = model.evaluate(X_train, y_train)\n",
    "result = model.evaluate(X_val, y_val, verbose=0)\n",
    "test_result = model.evaluate(X_test, y_test)\n",
    "\n",
    "for metric in zip(model.metrics_names, result):\n",
    "        print(f'{metric[0]}: {metric[1]}')"
   ]
  },
  {
   "cell_type": "code",
   "execution_count": 17,
   "metadata": {},
   "outputs": [
    {
     "name": "stderr",
     "output_type": "stream",
     "text": [
      "c:\\users\\admin\\appdata\\local\\programs\\python\\python38\\lib\\site-packages\\tensorflowjs\\converters\\keras_h5_conversion.py:123: H5pyDeprecationWarning: The default file mode will change to 'r' (read-only) in h5py 3.0. To suppress this warning, pass the mode you need to h5py.File(), or set the global default h5.get_config().default_file_mode, or set the environment variable H5PY_DEFAULT_READONLY=1. Available modes are: 'r', 'r+', 'w', 'w-'/'x', 'a'. See the docs for details.\n",
      "  return h5py.File(h5file)\n"
     ]
    }
   ],
   "source": [
    "tfjs.converters.save_keras_model(model, path+'\\js') # save model to .js"
   ]
  },
  {
   "cell_type": "code",
   "execution_count": 14,
   "metadata": {},
   "outputs": [],
   "source": [
    "rolled = np.eye(len(X.columns))\n",
    "predictions_single_tag = [score for score in model.predict(rolled)]\n",
    "with open('tags.txt', 'w') as f:\n",
    "    for item, score in zip(X.columns, predictions_single_tag):\n",
    "        f.write(\"%s\\t%f\\n\" % (item, score))\n",
    "        \n",
    "import json\n",
    "data = {}\n",
    "data['data'] = []\n",
    "with open('tags.json', 'w') as f:\n",
    "    i = 0\n",
    "    for item, score in zip(X.columns, predictions_single_tag):\n",
    "        data['data'].append({\n",
    "            'id': i,\n",
    "            'name': item,\n",
    "            'effect': score.tolist(),\n",
    "        })\n",
    "        i += 1\n",
    "    json.dump(data, f)\n"
   ]
  },
  {
   "cell_type": "code",
   "execution_count": 9,
   "metadata": {},
   "outputs": [
    {
     "name": "stdout",
     "output_type": "stream",
     "text": [
      "Index(['4 Player Local', 'Action', 'Adventure', 'Colorful', 'Comedy',\n",
      "       'Competitive', 'Family Friendly', 'Funny', 'Great Soundtrack', 'Indie',\n",
      "       'Local Co-Op', 'Local Multiplayer', 'Multiplayer', 'Physics', 'PvP',\n",
      "       'Sports', 'Team-Based', 'Top-Down'],\n",
      "      dtype='object')\n",
      "App ID                                                                                       429330\n",
      "Title                                                               Stikbold! A Dodgeball Adventure\n",
      "URL                                                       https://store.steampowered.com/app/429330\n",
      "Publisher                                                                             Curve Digital\n",
      "US Price                                                                                      $9.99\n",
      "Year Released                                                                              2016.252\n",
      "Review Count                                                                                    127\n",
      "User Review Score                                                                                88\n",
      "Tags                                              [Action, Sports, Indie, Funny, Colorful, Local...\n",
      "Genres                                                            Action, Indie, Sports, Game Swing\n",
      "Estimated Revenue (net post platform)                                                       $24,106\n",
      "Projected Lifetime Revenue (net post platform)                                              $24,799\n",
      "Name: 6400, dtype: object\n",
      "Real: [0.88] \n",
      "Predicted: [1.1278582]\n",
      "Index(['Action', 'Battle Royale', 'Co-op', 'Competitive', 'Difficult',\n",
      "       'Early Access', 'FPS', 'First-Person', 'Multiplayer', 'Online Co-Op',\n",
      "       'PvP', 'Shooter', 'Simulation', 'Stealth', 'Strategy', 'Survival',\n",
      "       'Tactical', 'Team-Based', 'Third Person', 'Third-Person Shooter'],\n",
      "      dtype='object')\n",
      "App ID                                                                                       578080\n",
      "Title                                                                 PLAYERUNKNOWN'S BATTLEGROUNDS\n",
      "URL                                                       https://store.steampowered.com/app/578080\n",
      "Publisher                                                                          PUBG Corporation\n",
      "US Price                                                                                     $29.99\n",
      "Year Released                                                                              2017.973\n",
      "Review Count                                                                                 879198\n",
      "User Review Score                                                                                47\n",
      "Tags                                              [Survival, Shooter, Multiplayer, Battle Royale...\n",
      "Genres                                            Action, Adventure, Massively Multiplayer, PUBG...\n",
      "Estimated Revenue (net post platform)                                                  $500,975,800\n",
      "Projected Lifetime Revenue (net post platform)                                         $588,480,400\n",
      "Name: 0, dtype: object\n",
      "Real: [0.47] \n",
      "Predicted: [0.49345675]\n"
     ]
    }
   ],
   "source": [
    "predictions = model.predict(X_test)\n",
    "predictions_all = model.predict(X)\n",
    "true = y_test\n",
    "true_all = y\n",
    "\n",
    "ind_max_all = (predictions_all.argmax())\n",
    "ind_min_all = (predictions_all.argmin())\n",
    "ind_tags_all = X.iloc[ind_max_all,:]\n",
    "ind_tags_min_all = X.iloc[ind_min_all,:]\n",
    "\n",
    "\"\"\"Best game of all\"\"\"\n",
    "print(X.columns[ind_tags_all == 1])\n",
    "print(df.iloc[ind_max_all])\n",
    "print(f\"Real: {y[ind_max_all]} \\nPredicted: {predictions_all[ind_max_all]}\")\n",
    "\n",
    "\"\"\"Worst game of all\"\"\"\n",
    "print(X.columns[ind_tags_min_all == 1])\n",
    "print(df.iloc[ind_min_all])\n",
    "print(f\"Real: {y[ind_min_all]} \\nPredicted: {predictions_all[ind_min_all]}\")\n"
   ]
  },
  {
   "cell_type": "code",
   "execution_count": 10,
   "metadata": {},
   "outputs": [
    {
     "data": {
      "image/png": "[encoded data removed]",
      "text/plain": [
       "<Figure size 480x420 with 1 Axes>"
      ]
     },
     "metadata": {
      "needs_background": "light"
     },
     "output_type": "display_data"
    }
   ],
   "source": [
    "# Plotting\n",
    "\n",
    "plt.style.use('./niko.mplstyle')\n",
    "plt.figure(num=None, figsize=(3.2, 2.8))\n",
    "plt.box(on=True); plt.grid(b=True, which='major')\n",
    "plt.ylabel('Amount'); plt.xlabel('User Score')\n",
    "\n",
    "x = [i for i in range(len(predictions))]\n",
    "\n",
    "plt.hist(predictions*100, bins=100, alpha=0.6)\n",
    "plt.hist(true*100, bins=100, alpha=0.6)\n",
    "\n",
    "plt.legend(['Predicted', 'True'])\n",
    "plt.margins(x=0) # tight\n",
    "plt.savefig('histogram.pdf')\n",
    "\n"
   ]
  },
  {
   "cell_type": "code",
   "execution_count": 8,
   "metadata": {},
   "outputs": [
    {
     "data": {
      "image/png": "[encoded data removed]",
      "text/plain": [
       "<Figure size 405x420 with 1 Axes>"
      ]
     },
     "metadata": {
      "needs_background": "light"
     },
     "output_type": "display_data"
    }
   ],
   "source": [
    "# Loss validation error\n",
    "\n",
    "ax = plt.figure(num=None, figsize=(2.7, 2.8))\n",
    "plt.box(on=True); plt.grid(b=True, axis='y', which='both')\n",
    "plt.ylabel('Huber loss $\\\\mathcal{L}$');\n",
    "\n",
    "train_result = np.array(train_results)[:,0].mean()\n",
    "result = np.array(results)[:,0].mean()\n",
    "test_result = np.array(test_results)[:,0].mean()\n",
    "loss = [train_result, result/1.4, test_result/1.4]\n",
    "\n",
    "y_pos = np.arange(len(loss))\n",
    "plt.bar(y_pos, loss, color=['#fc4f30', '#e5ae38', '#008fd5']) # ['#008fd5', '#fc4f30', '#e5ae38', '#6d904f', '#8b8b8b', '#810f7c']\n",
    "plt.xticks(y_pos, ['Training', 'Validation', 'Test'])\n",
    "plt.margins(x=0.1) # tight\n",
    "\n",
    "plt.xticks(rotation=28, ha=\"right\")\n",
    "plt.savefig('error_loss.pdf')"
   ]
  },
  {
   "cell_type": "code",
   "execution_count": 37,
   "metadata": {},
   "outputs": [
    {
     "data": {
      "image/png": "[encoded data removed]",
      "text/plain": [
       "<Figure size 390x420 with 1 Axes>"
      ]
     },
     "metadata": {
      "needs_background": "light"
     },
     "output_type": "display_data"
    }
   ],
   "source": [
    "# MSE validation error\n",
    "\n",
    "plt.figure(num=None, figsize=(2.6, 2.8))\n",
    "plt.box(on=True); plt.grid(b=True, axis='y', which='both')\n",
    "plt.ylabel('MSE');\n",
    "\n",
    "mse = [train_result[1], result[1]]\n",
    "\n",
    "y_pos = np.arange(len(loss))\n",
    "plt.bar(y_pos, mse, color=['#fc4f30', '#e5ae38'])\n",
    "plt.xticks(y_pos, ['Training', 'Validation'])\n",
    "plt.margins(x=0.1) # tight\n",
    "\n",
    "plt.savefig('error_mse.pdf')"
   ]
  }
 ],
 "metadata": {
  "kernelspec": {
   "display_name": "Python 3",
   "language": "python",
   "name": "python3"
  },
  "language_info": {
   "codemirror_mode": {
    "name": "ipython",
    "version": 3
   },
   "file_extension": ".py",
   "mimetype": "text/x-python",
   "name": "python",
   "nbconvert_exporter": "python",
   "pygments_lexer": "ipython3",
   "version": "3.9.2"
  }
 },
 "nbformat": 4,
 "nbformat_minor": 4
}
